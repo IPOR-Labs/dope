{
 "cells": [
  {
   "cell_type": "code",
   "execution_count": 10,
   "id": "01da832f",
   "metadata": {},
   "outputs": [
    {
     "name": "stdout",
     "output_type": "stream",
     "text": [
      "The autoreload extension is already loaded. To reload it, use:\n",
      "  %reload_ext autoreload\n"
     ]
    }
   ],
   "source": [
    "%load_ext autoreload\n",
    "%autoreload 2\n",
    "\n",
    "import matplotlib.pyplot as plt\n",
    "plt.rcParams[\"figure.figsize\"] = (20,4)\n",
    "plt.rcParams[\"figure.facecolor\"] = \"white\"\n",
    "plt.rcParams[\"font.size\"] = 16\n",
    "\n",
    "import dask.dataframe as dd\n",
    "import pandas as pd\n",
    "import numpy as np\n",
    "import time\n",
    "\n",
    "import plotly.io as pio\n",
    "pio.renderers.default = 'notebook'"
   ]
  },
  {
   "cell_type": "code",
   "execution_count": 190,
   "id": "8274d6a0",
   "metadata": {},
   "outputs": [],
   "source": [
    "from dope.fetcher.coingecko import CoinGecko\n",
    "cg = CoinGecko()"
   ]
  },
  {
   "cell_type": "code",
   "execution_count": 191,
   "id": "959e0397",
   "metadata": {},
   "outputs": [
    {
     "data": {
      "text/html": [
       "<div>\n",
       "<style scoped>\n",
       "    .dataframe tbody tr th:only-of-type {\n",
       "        vertical-align: middle;\n",
       "    }\n",
       "\n",
       "    .dataframe tbody tr th {\n",
       "        vertical-align: top;\n",
       "    }\n",
       "\n",
       "    .dataframe thead th {\n",
       "        text-align: right;\n",
       "    }\n",
       "</style>\n",
       "<table border=\"1\" class=\"dataframe\">\n",
       "  <thead>\n",
       "    <tr style=\"text-align: right;\">\n",
       "      <th></th>\n",
       "      <th>id</th>\n",
       "      <th>symbol</th>\n",
       "      <th>name</th>\n",
       "    </tr>\n",
       "  </thead>\n",
       "  <tbody>\n",
       "    <tr>\n",
       "      <th>2393</th>\n",
       "      <td>bridged-wrapped-lido-staked-ether-scroll</td>\n",
       "      <td>wsteth</td>\n",
       "      <td>Bridged Wrapped Lido Staked Ether (Scroll)</td>\n",
       "    </tr>\n",
       "    <tr>\n",
       "      <th>2395</th>\n",
       "      <td>bridged-wrapped-steth-fuse</td>\n",
       "      <td>wsteth</td>\n",
       "      <td>Bridged Wrapped stETH (Fuse)</td>\n",
       "    </tr>\n",
       "    <tr>\n",
       "      <th>2396</th>\n",
       "      <td>bridged-wrapped-steth-gnosis</td>\n",
       "      <td>wsteth</td>\n",
       "      <td>Bridged Wrapped stETH (Gnosis)</td>\n",
       "    </tr>\n",
       "    <tr>\n",
       "      <th>2397</th>\n",
       "      <td>bridged-wrapped-steth-manta-pacific</td>\n",
       "      <td>wsteth</td>\n",
       "      <td>Bridged Wrapped stETH (Manta Pacific)</td>\n",
       "    </tr>\n",
       "    <tr>\n",
       "      <th>15444</th>\n",
       "      <td>wrapped-steth</td>\n",
       "      <td>wsteth</td>\n",
       "      <td>Wrapped stETH</td>\n",
       "    </tr>\n",
       "  </tbody>\n",
       "</table>\n",
       "</div>"
      ],
      "text/plain": [
       "                                             id  symbol  \\\n",
       "2393   bridged-wrapped-lido-staked-ether-scroll  wsteth   \n",
       "2395                 bridged-wrapped-steth-fuse  wsteth   \n",
       "2396               bridged-wrapped-steth-gnosis  wsteth   \n",
       "2397        bridged-wrapped-steth-manta-pacific  wsteth   \n",
       "15444                             wrapped-steth  wsteth   \n",
       "\n",
       "                                             name  \n",
       "2393   Bridged Wrapped Lido Staked Ether (Scroll)  \n",
       "2395                 Bridged Wrapped stETH (Fuse)  \n",
       "2396               Bridged Wrapped stETH (Gnosis)  \n",
       "2397        Bridged Wrapped stETH (Manta Pacific)  \n",
       "15444                               Wrapped stETH  "
      ]
     },
     "execution_count": 191,
     "metadata": {},
     "output_type": "execute_result"
    }
   ],
   "source": [
    "tokens = cg.get_token_list()\n",
    "tokens[tokens.symbol.apply(lambda x: \"wsteth\" == x)]"
   ]
  },
  {
   "cell_type": "code",
   "execution_count": 3,
   "id": "c4534300",
   "metadata": {},
   "outputs": [],
   "source": [
    "from dope.pools.pools import Pool\n",
    "from dope.backengine.maestro import BackEngineMaestro"
   ]
  },
  {
   "cell_type": "code",
   "execution_count": 298,
   "id": "d93f17eb",
   "metadata": {},
   "outputs": [],
   "source": [
    "maestro = BackEngineMaestro()\n",
    "pools = [\n",
    "  Pool(\n",
    "    chain=\"Optimism\",\n",
    "    symbol=\"wstETH-WETH\",\n",
    "    protocol=\"AaveV3\",\n",
    "    ltv=0.93,\n",
    "    LT=0.93,\n",
    "    deposit_token=\"WSTETH\",\n",
    "    deposit_token_keyid=\"wrapped-steth\",\n",
    "    deposit_pool_id=\"03a0cf78-c2f0-4ce5-85a8-2d5b77349276\",\n",
    "    \n",
    "    debt_token=\"WETH\",\n",
    "    debt_token_keyid=\"ethereum\",\n",
    "    debt_pool_id=\"3e332a41-3a15-41bc-8d5c-438c09609349\",\n",
    "  ),\n",
    "  \n",
    "  Pool(\n",
    "    chain=\"Optimism\",\n",
    "    symbol=\"wstETH-WETH\",\n",
    "    protocol=\"AaveV3\",\n",
    "    ltv=0.93,\n",
    "    LT=0.93,\n",
    "    debt_token=\"WSTETH\",\n",
    "    debt_token_keyid=\"wrapped-steth\",\n",
    "    debt_pool_id=\"03a0cf78-c2f0-4ce5-85a8-2d5b77349276\",\n",
    "    \n",
    "    deposit_token=\"WETH\",\n",
    "    deposit_token_keyid=\"ethereum\",\n",
    "    deposit_pool_id=\"3e332a41-3a15-41bc-8d5c-438c09609349\",\n",
    "  ),\n",
    "  \n",
    "  \n",
    "]"
   ]
  },
  {
   "cell_type": "code",
   "execution_count": null,
   "id": "292805f9",
   "metadata": {},
   "outputs": [],
   "source": []
  },
  {
   "cell_type": "code",
   "execution_count": 299,
   "id": "9fa40782",
   "metadata": {},
   "outputs": [
    {
     "name": "stdout",
     "output_type": "stream",
     "text": [
      "Optimism:aave-v3:WETH 3e332a41-3a15-41bc-8d5c-438c09609349 558 558\n",
      "Optimism:aave-v3:WSTETH 03a0cf78-c2f0-4ce5-85a8-2d5b77349276 558 558\n"
     ]
    }
   ],
   "source": [
    "# Download data\n",
    "_ = maestro.load_pools_data(pools)"
   ]
  },
  {
   "cell_type": "code",
   "execution_count": 300,
   "id": "125f4a18",
   "metadata": {},
   "outputs": [],
   "source": [
    "# The data is downloaded only once\n",
    "_ = maestro.load_pools_data(pools)"
   ]
  },
  {
   "cell_type": "code",
   "execution_count": 301,
   "id": "80a30fc4",
   "metadata": {
    "scrolled": true
   },
   "outputs": [
    {
     "name": "stdout",
     "output_type": "stream",
     "text": [
      "Data for ethereum with ...\r",
      "Data for ethereum with 366 rows\n",
      "Data for wrapped-steth with ...\r",
      "Data for wrapped-steth with 366 rows\n"
     ]
    }
   ],
   "source": [
    "# Download price data\n",
    "maestro.load_price_data(pools)"
   ]
  },
  {
   "cell_type": "code",
   "execution_count": 302,
   "id": "781f1b18",
   "metadata": {},
   "outputs": [],
   "source": [
    "maestro.convert_data_to_base_token(\"WETH\")"
   ]
  },
  {
   "cell_type": "code",
   "execution_count": 303,
   "id": "b250b3cb",
   "metadata": {},
   "outputs": [],
   "source": [
    "# The data is downloaded only once \n",
    "maestro.load_price_data(pools)"
   ]
  },
  {
   "cell_type": "code",
   "execution_count": 310,
   "id": "c8dcc366",
   "metadata": {
    "scrolled": false
   },
   "outputs": [
    {
     "data": {
      "application/vnd.jupyter.widget-view+json": {
       "model_id": "ab40216494594cadbb2ded6a69bd8e56",
       "version_major": 2,
       "version_minor": 0
      },
      "text/plain": [
       "HBox(children=(Dropdown(description='Loop:', options=(Optimism:AaveV3:(debt:WETH(3e332a41), deposit:WSTETH(03a…"
      ]
     },
     "metadata": {},
     "output_type": "display_data"
    },
    {
     "data": {
      "application/vnd.jupyter.widget-view+json": {
       "model_id": "17683f3cd5e9407fa41702ceca9ca37b",
       "version_major": 2,
       "version_minor": 0
      },
      "text/plain": [
       "HBox(children=(VBox(children=(Label(value='Moving Avg. Window (days)'), VBox(children=(FloatSlider(value=14.28…"
      ]
     },
     "metadata": {},
     "output_type": "display_data"
    },
    {
     "data": {
      "application/vnd.jupyter.widget-view+json": {
       "model_id": "fd0f89f70846453dbd49cf17f51eaf26",
       "version_major": 2,
       "version_minor": 0
      },
      "text/plain": [
       "FigureWidget({\n",
       "    'data': [],\n",
       "    'layout': {'height': 500,\n",
       "               'template': '...',\n",
       "               'title': {'text': 'Looping APY Timeseries'},\n",
       "               'width': 950,\n",
       "               'xaxis': {'anchor': 'y', 'domain': [0.0, 1.0], 'matches': 'x2', 'showticklabels': False},\n",
       "               'xaxis2': {'anchor': 'y2', 'domain': [0.0, 1.0], 'title': {'text': 'Date'}},\n",
       "               'yaxis': {'anchor': 'x', 'domain': [0.33499999999999996, 0.9999999999999999], 'title': {'text': 'APY'}},\n",
       "               'yaxis2': {'anchor': 'x2', 'domain': [0.0, 0.285]}}\n",
       "})"
      ]
     },
     "metadata": {},
     "output_type": "display_data"
    }
   ],
   "source": [
    "dash = LoopDashboard(maestro=maestro)\n",
    "dash.setup()\n",
    "dash.display()"
   ]
  },
  {
   "cell_type": "code",
   "execution_count": 280,
   "id": "59ce2866",
   "metadata": {},
   "outputs": [],
   "source": [
    "df = dash.on_change(return_raw=True)"
   ]
  },
  {
   "cell_type": "code",
   "execution_count": null,
   "id": "fa3487b4",
   "metadata": {},
   "outputs": [],
   "source": []
  },
  {
   "cell_type": "code",
   "execution_count": null,
   "id": "d59d375a",
   "metadata": {},
   "outputs": [],
   "source": []
  },
  {
   "cell_type": "code",
   "execution_count": null,
   "id": "b0dfd1a4",
   "metadata": {},
   "outputs": [],
   "source": []
  },
  {
   "cell_type": "code",
   "execution_count": null,
   "id": "139da1c8",
   "metadata": {},
   "outputs": [],
   "source": []
  }
 ],
 "metadata": {
  "kernelspec": {
   "display_name": "Python 3 (ipykernel)",
   "language": "python",
   "name": "python3"
  },
  "language_info": {
   "codemirror_mode": {
    "name": "ipython",
    "version": 3
   },
   "file_extension": ".py",
   "mimetype": "text/x-python",
   "name": "python",
   "nbconvert_exporter": "python",
   "pygments_lexer": "ipython3",
   "version": "3.9.10"
  }
 },
 "nbformat": 4,
 "nbformat_minor": 5
}
